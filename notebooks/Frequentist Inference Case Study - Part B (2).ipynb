{
 "cells": [
  {
   "cell_type": "markdown",
   "metadata": {},
   "source": [
    "# Frequentist Inference Case Study - Part B"
   ]
  },
  {
   "cell_type": "markdown",
   "metadata": {},
   "source": [
    "## Learning objectives"
   ]
  },
  {
   "cell_type": "markdown",
   "metadata": {},
   "source": [
    "Welcome to Part B of the Frequentist inference case study! The purpose of this case study is to help you apply the concepts associated with Frequentist inference in Python. In particular, you'll practice writing Python code to apply the following statistical concepts: \n",
    "* the _z_-statistic\n",
    "* the _t_-statistic\n",
    "* the difference and relationship between the two\n",
    "* the Central Limit Theorem, including its assumptions and consequences\n",
    "* how to estimate the population mean and standard deviation from a sample\n",
    "* the concept of a sampling distribution of a test statistic, particularly for the mean\n",
    "* how to combine these concepts to calculate a confidence interval"
   ]
  },
  {
   "cell_type": "markdown",
   "metadata": {},
   "source": [
    "In the previous notebook, we used only data from a known normal distribution. **You'll now tackle real data, rather than simulated data, and answer some relevant real-world business problems using the data.**"
   ]
  },
  {
   "cell_type": "markdown",
   "metadata": {},
   "source": [
    "## Hospital medical charges"
   ]
  },
  {
   "cell_type": "markdown",
   "metadata": {},
   "source": [
    "Imagine that a hospital has hired you as their data scientist. An administrator is working on the hospital's business operations plan and needs you to help them answer some business questions. \n",
    "\n",
    "In this assignment notebook, you're going to use frequentist statistical inference on a data sample to answer the questions:\n",
    "* has the hospital's revenue stream fallen below a key threshold?\n",
    "* are patients with insurance really charged different amounts than those without?\n",
    "\n",
    "Answering that last question with a frequentist approach makes some assumptions, and requires some knowledge, about the two groups."
   ]
  },
  {
   "cell_type": "markdown",
   "metadata": {},
   "source": [
    "We are going to use some data on medical charges obtained from [Kaggle](https://www.kaggle.com/easonlai/sample-insurance-claim-prediction-dataset). \n",
    "\n",
    "For the purposes of this exercise, assume the observations are the result of random sampling from our single hospital. Recall that in the previous assignment, we introduced the Central Limit Theorem (CLT), and its consequence that the distributions of sample statistics approach a normal distribution as $n$ increases. The amazing thing about this is that it applies to the sampling distributions of statistics that have been calculated from even highly non-normal distributions of data! Recall, also, that hypothesis testing is very much based on making inferences about such sample statistics. You're going to rely heavily on the CLT to apply frequentist (parametric) tests to answer the questions in this notebook."
   ]
  },
  {
   "cell_type": "code",
   "execution_count": 3,
   "metadata": {},
   "outputs": [],
   "source": [
    "import pandas as pd\n",
    "import numpy as np\n",
    "import matplotlib.pyplot as plt\n",
    "import seaborn as sns\n",
    "import matplotlib.ticker as mtick\n",
    "from math import sqrt\n",
    "from scipy.stats import norm\n",
    "from scipy.stats import ttest_ind\n",
    "from numpy.random import seed\n",
    "file_location ='C:/Users/Greki/Frequentist_Inference/data/raw'\n",
    "medical = pd.read_csv(file_location+'/insurance2.csv').sort_values(by='charges', ascending=True)"
   ]
  },
  {
   "cell_type": "code",
   "execution_count": 4,
   "metadata": {},
   "outputs": [
    {
     "data": {
      "text/plain": [
       "(1338, 8)"
      ]
     },
     "execution_count": 4,
     "metadata": {},
     "output_type": "execute_result"
    }
   ],
   "source": [
    "medical.shape"
   ]
  },
  {
   "cell_type": "code",
   "execution_count": 5,
   "metadata": {},
   "outputs": [
    {
     "data": {
      "text/html": [
       "<div>\n",
       "<style scoped>\n",
       "    .dataframe tbody tr th:only-of-type {\n",
       "        vertical-align: middle;\n",
       "    }\n",
       "\n",
       "    .dataframe tbody tr th {\n",
       "        vertical-align: top;\n",
       "    }\n",
       "\n",
       "    .dataframe thead th {\n",
       "        text-align: right;\n",
       "    }\n",
       "</style>\n",
       "<table border=\"1\" class=\"dataframe\">\n",
       "  <thead>\n",
       "    <tr style=\"text-align: right;\">\n",
       "      <th></th>\n",
       "      <th>age</th>\n",
       "      <th>sex</th>\n",
       "      <th>bmi</th>\n",
       "      <th>children</th>\n",
       "      <th>smoker</th>\n",
       "      <th>region</th>\n",
       "      <th>charges</th>\n",
       "      <th>insuranceclaim</th>\n",
       "    </tr>\n",
       "  </thead>\n",
       "  <tbody>\n",
       "    <tr>\n",
       "      <th>940</th>\n",
       "      <td>18</td>\n",
       "      <td>1</td>\n",
       "      <td>23.21</td>\n",
       "      <td>0</td>\n",
       "      <td>0</td>\n",
       "      <td>2</td>\n",
       "      <td>1121.8739</td>\n",
       "      <td>0</td>\n",
       "    </tr>\n",
       "    <tr>\n",
       "      <th>808</th>\n",
       "      <td>18</td>\n",
       "      <td>1</td>\n",
       "      <td>30.14</td>\n",
       "      <td>0</td>\n",
       "      <td>0</td>\n",
       "      <td>2</td>\n",
       "      <td>1131.5066</td>\n",
       "      <td>1</td>\n",
       "    </tr>\n",
       "    <tr>\n",
       "      <th>1244</th>\n",
       "      <td>18</td>\n",
       "      <td>1</td>\n",
       "      <td>33.33</td>\n",
       "      <td>0</td>\n",
       "      <td>0</td>\n",
       "      <td>2</td>\n",
       "      <td>1135.9407</td>\n",
       "      <td>1</td>\n",
       "    </tr>\n",
       "    <tr>\n",
       "      <th>663</th>\n",
       "      <td>18</td>\n",
       "      <td>1</td>\n",
       "      <td>33.66</td>\n",
       "      <td>0</td>\n",
       "      <td>0</td>\n",
       "      <td>2</td>\n",
       "      <td>1136.3994</td>\n",
       "      <td>1</td>\n",
       "    </tr>\n",
       "    <tr>\n",
       "      <th>22</th>\n",
       "      <td>18</td>\n",
       "      <td>1</td>\n",
       "      <td>34.10</td>\n",
       "      <td>0</td>\n",
       "      <td>0</td>\n",
       "      <td>2</td>\n",
       "      <td>1137.0110</td>\n",
       "      <td>1</td>\n",
       "    </tr>\n",
       "  </tbody>\n",
       "</table>\n",
       "</div>"
      ],
      "text/plain": [
       "      age  sex    bmi  children  smoker  region    charges  insuranceclaim\n",
       "940    18    1  23.21         0       0       2  1121.8739               0\n",
       "808    18    1  30.14         0       0       2  1131.5066               1\n",
       "1244   18    1  33.33         0       0       2  1135.9407               1\n",
       "663    18    1  33.66         0       0       2  1136.3994               1\n",
       "22     18    1  34.10         0       0       2  1137.0110               1"
      ]
     },
     "execution_count": 5,
     "metadata": {},
     "output_type": "execute_result"
    }
   ],
   "source": [
    "medical.head()"
   ]
  },
  {
   "cell_type": "markdown",
   "metadata": {},
   "source": [
    "__Q1:__ Plot the histogram of charges and calculate the mean and standard deviation. Comment on the appropriateness of these statistics for the data."
   ]
  },
  {
   "cell_type": "markdown",
   "metadata": {},
   "source": [
    "__A:__"
   ]
  },
  {
   "cell_type": "code",
   "execution_count": 6,
   "metadata": {},
   "outputs": [
    {
     "data": {
      "image/png": "[encoded data removed]",
      "text/plain": [
       "<Figure size 432x288 with 1 Axes>"
      ]
     },
     "metadata": {
      "needs_background": "light"
     },
     "output_type": "display_data"
    }
   ],
   "source": [
    "_=medical.hist('charges', bins=35)\n",
    "_ = plt.xlabel('USD')\n",
    "_ = plt.ylabel('number of patients')\n",
    "_ = plt.title('Distribution of charges')"
   ]
  },
  {
   "cell_type": "code",
   "execution_count": 7,
   "metadata": {},
   "outputs": [
    {
     "name": "stdout",
     "output_type": "stream",
     "text": [
      "Mean: $13270.42\n",
      "Standard Deviation: $12105.48\n",
      "Minimum: $1121.87\n",
      "Median: $9382.03\n",
      "Maximum: $63770.43\n",
      "[13422.456669]\n",
      "25th Percentile: $4740.29, 75th Percentile: $16639.91\n"
     ]
    }
   ],
   "source": [
    "mean= round(np.mean(medical.charges),2)\n",
    "print(\"Mean: $\" + str(mean))\n",
    "\n",
    "std_dev =  round(np.std(medical.charges),2)\n",
    "print(\"Standard Deviation: $\" + str(std_dev))\n",
    "\n",
    "min =  round(np.min(medical.charges),2)\n",
    "print(\"Minimum: $\" + str(min))\n",
    "\n",
    "median =  round(np.median(medical.charges),2)\n",
    "print(\"Median: $\" + str(median))\n",
    "\n",
    "max =  round(np.max(medical.charges),2)\n",
    "print(\"Maximum: $\" + str(max))\n",
    "\n",
    "p25, p75 = np.percentile(medical.charges, [25, 75])\n",
    "percen = np.percentile(medical.charges, [69])\n",
    "print(percen)\n",
    "print(\"25th Percentile: $\"+str(round(p25,2)) + \", 75th Percentile: $\"+str(round(p75,2)))"
   ]
  },
  {
   "cell_type": "markdown",
   "metadata": {},
   "source": [
    "Medical charges distribution is skewed heavily to the left side of the mean ($13270.42) with the median at $9382.03.  There is a long tail that tappers to the right.  The distribution is not remotely normal.  "
   ]
  },
  {
   "cell_type": "code",
   "execution_count": 8,
   "metadata": {},
   "outputs": [
    {
     "data": {
      "image/png": "[encoded data removed]",
      "text/plain": [
       "<Figure size 432x288 with 1 Axes>"
      ]
     },
     "metadata": {
      "needs_background": "light"
     },
     "output_type": "display_data"
    }
   ],
   "source": [
    "#grapgh ecdf and mean, median,25th and 75th percentile to show if data is normal or not\n",
    "\n",
    "_=sns.ecdfplot(data=medical.charges, label='ECDF' )\n",
    "_=plt.axvline(mean, color='r', linestyle='--', label='Mean')\n",
    "_=plt.axvline(median, color='g', linestyle='--', label='Median')\n",
    "_=plt.axvline(p25, color='y', linestyle='--', label='25th Percentile')\n",
    "_=plt.axvline(p75, color='b', linestyle='--', label='75th Percentile')\n",
    "_=plt.title('ECDF of actual charges in patient population')\n",
    "_= plt.xlabel('USD')\n",
    "_=plt.legend()"
   ]
  },
  {
   "cell_type": "markdown",
   "metadata": {},
   "source": [
    "__Q2:__ The administrator is concerned that the actual average charge has fallen below 12,000, threatening the hospital's operational model. On the assumption that these data represent a random sample of charges, how would you justify that these data allow you to answer that question? And what would be the most appropriate frequentist test, of the ones discussed so far, to apply?"
   ]
  },
  {
   "cell_type": "markdown",
   "metadata": {},
   "source": [
    "__A:__ Although the mean exceedes 12,000 the sckewed nature of this distribution is a cause for concern. with a median of approx 9,000 (50th percentile) and the mean is 13,270 ( approx 69th percentile).  This means that the remaining 30 percent of the medical  have to be at a very high value to offset the values that are to the left of the mean. "
   ]
  },
  {
   "cell_type": "code",
   "execution_count": 9,
   "metadata": {},
   "outputs": [],
   "source": [
    "medical_charges=np.array(medical['charges'])"
   ]
  },
  {
   "cell_type": "code",
   "execution_count": 10,
   "metadata": {},
   "outputs": [],
   "source": [
    "def medrec_sampler(n):\n",
    "    return np.random.choice(medical_charges, n)"
   ]
  },
  {
   "cell_type": "code",
   "execution_count": 11,
   "metadata": {},
   "outputs": [],
   "source": [
    "seed(47)\n",
    "super_samples = [np.mean(medrec_sampler(50)) for i in range(300)]\n",
    "medrec_super_samples= np.sort(super_samples)\n",
    "mean_of_means= np.mean(medrec_super_samples)\n",
    "STD= np.std(medrec_super_samples,ddof=1)\n",
    "H_12000= norm.cdf(12000,mean_of_means,STD)\n",
    "mean_x_max = norm.cdf(mean_of_means,mean_of_means,STD)\n",
    "h_mean=norm.cdf(mean_of_means,mean_of_means,STD)\n",
    "min_mean= np.min(medrec_super_samples)\n",
    "max_mean=np.max(medrec_super_samples)"
   ]
  },
  {
   "cell_type": "code",
   "execution_count": 12,
   "metadata": {},
   "outputs": [
    {
     "name": "stdout",
     "output_type": "stream",
     "text": [
      "9036.8968028\n",
      "19267.910133799996\n",
      "13315.186266487599\n",
      "1662.349076113126\n"
     ]
    }
   ],
   "source": [
    "print(min_mean)\n",
    "print(max_mean)\n",
    "print(mean_of_means)\n",
    "print(STD)"
   ]
  },
  {
   "cell_type": "code",
   "execution_count": 13,
   "metadata": {},
   "outputs": [
    {
     "data": {
      "image/png": "[encoded data removed]",
      "text/plain": [
       "<Figure size 432x288 with 1 Axes>"
      ]
     },
     "metadata": {
      "needs_background": "light"
     },
     "output_type": "display_data"
    }
   ],
   "source": [
    "_= plt.hist(medrec_super_samples, bins= 20, density = True )\n",
    "_=dist = norm.pdf(medrec_super_samples, mean_of_means, STD)\n",
    "_= plt.plot(medrec_super_samples,dist, color='y', label ='PDF')\n",
    "_=plt.gca().yaxis.set_major_formatter(mtick.PercentFormatter(xmax=1.0))\n",
    "_ = plt.xlabel('USD')\n",
    "_ = plt.ylabel('% of invoices')\n",
    "#_= plt.yaxis.set_major_formatter(mtick.PercentFormatter())\n",
    "_ = plt.title('Distribution of the mean medical invoices in sample size 50')\n",
    "_=plt.axvline(mean_of_means, color='r', linestyle='--', label='Mean')\n",
    "_=plt.legend()"
   ]
  },
  {
   "cell_type": "code",
   "execution_count": 14,
   "metadata": {},
   "outputs": [
    {
     "data": {
      "image/png": "[encoded data removed]",
      "text/plain": [
       "<Figure size 432x288 with 1 Axes>"
      ]
     },
     "metadata": {
      "needs_background": "light"
     },
     "output_type": "display_data"
    }
   ],
   "source": [
    "#grapgh cdf and mean, median, and 12,000 cutoff\n",
    "\n",
    "_=sns.ecdfplot(data=medrec_super_samples, label='CDF' )\n",
    "_=plt.vlines(x=mean_of_means,ymin=0, ymax= mean_x_max,color='r', linestyle='--', label='Mean')\n",
    "_=plt.hlines(y=h_mean,xmin=min_mean,xmax=mean_of_means, color='r', linestyle='--')\n",
    "_=plt.vlines(x=12000,ymin=0, ymax= H_12000,color='g', linestyle='--', label='12,000 cutoff')\n",
    "_=plt.hlines(y=H_12000,xmin=min_mean,xmax=12000, color='g', linestyle='--')\n",
    "_= plt.xlabel('USD')\n",
    "_=plt.legend()\n",
    "_ = plt.title('Location of the mean of means medical invoices and $12,000 mean cutoff')"
   ]
  },
  {
   "cell_type": "markdown",
   "metadata": {},
   "source": [
    "__Q3:__ Given the nature of the administrator's concern, what is the appropriate confidence interval in this case? A ***one-sided*** or ***two-sided*** interval? (Refresh your understanding of this concept on p. 399 of the *AoS*). Calculate the critical value and the relevant 95% confidence interval for the mean, and comment on whether the administrator should be concerned."
   ]
  },
  {
   "cell_type": "markdown",
   "metadata": {},
   "source": [
    " __A:__  Given that the administrator is concerned with the mean being below $12,000, the answer would be to utilize a one-sided interval utilizing a Z score due to sample size of 200. critical value = 1 -0.95 = 0.05. Z Score = -1.65   lower confidence interval is calculated as ( Mean - Zscore(standard deviation/ sqrt of sample size)) = 13315 -1.65(1662/(300 ^ 1/2)) = 13315-158.33= 13156.67.  "
   ]
  },
  {
   "cell_type": "markdown",
   "metadata": {
    "scrolled": true
   },
   "source": [
    "Given that the lower confidence interval is 13,156.67, then the Administrator should have 95% confidence that the mean will be greater 13,156.67 and $12,000 or less would be an exception.\n"
   ]
  },
  {
   "cell_type": "markdown",
   "metadata": {},
   "source": [
    "The administrator then wants to know whether people with insurance really are charged a different amount to those without.\n",
    "\n",
    "__Q4:__ State the null and alternative hypothesis here. Use the _t_-test for the difference between means, where the pooled standard deviation of the two groups is given by:\n",
    "\\begin{equation}\n",
    "s_p = \\sqrt{\\frac{(n_0 - 1)s^2_0 + (n_1 - 1)s^2_1}{n_0 + n_1 - 2}}\n",
    "\\end{equation}\n",
    "\n",
    "and the *t*-test statistic is then given by:\n",
    "\n",
    "\\begin{equation}\n",
    "t = \\frac{\\bar{x}_0 - \\bar{x}_1}{s_p \\sqrt{1/n_0 + 1/n_1}}.\n",
    "\\end{equation}\n",
    "\n",
    "(If you need some reminding of the general definition of ***t-statistic***, check out the definition on p. 404 of *AoS*). \n",
    "\n",
    "What assumption about the variances of the two groups are we making here?"
   ]
  },
  {
   "cell_type": "markdown",
   "metadata": {},
   "source": [
    "## Hypothesis"
   ]
  },
  {
   "cell_type": "markdown",
   "metadata": {},
   "source": [
    "H0 = mean0 = mean1 = insured and uninsured are charged the same\n",
    "\n",
    "Ha = mean0 ≠ mean1 = insured and uninsured are charged differently"
   ]
  },
  {
   "cell_type": "markdown",
   "metadata": {},
   "source": [
    "## Insured Population"
   ]
  },
  {
   "cell_type": "code",
   "execution_count": 15,
   "metadata": {},
   "outputs": [],
   "source": [
    "def insur_sampler(data,n):\n",
    "    return np.random.choice(data, n)"
   ]
  },
  {
   "cell_type": "code",
   "execution_count": 16,
   "metadata": {
    "scrolled": true
   },
   "outputs": [
    {
     "name": "stdout",
     "output_type": "stream",
     "text": [
      "Mean: $16423.93\n",
      "Standard Deviation: $14036.96\n",
      "Minimum: $1131.51\n",
      "Median: $11538.42\n",
      "Maximum: $63770.43\n",
      "Size: 783\n"
     ]
    },
    {
     "data": {
      "image/png": "[encoded data removed]",
      "text/plain": [
       "<Figure size 432x288 with 1 Axes>"
      ]
     },
     "metadata": {
      "needs_background": "light"
     },
     "output_type": "display_data"
    }
   ],
   "source": [
    "#Calc for insured population\n",
    "W_insur=(medical.query('insuranceclaim==1').charges)\n",
    "\n",
    "#Histogram for insured population\n",
    "_=W_insur.hist( bins=35)\n",
    "_ = plt.xlabel('USD')\n",
    "_ = plt.ylabel('number of patients')\n",
    "_ = plt.title('Population Distribution of Charges with Insurance')\n",
    "\n",
    "# Descriptive statistics for insured population\n",
    "mean_W_insur= round(np.mean(W_insur),2)\n",
    "print(\"Mean: $\" + str(mean_W_insur))\n",
    "\n",
    "std_dev_insur =  round(np.std(W_insur),2)\n",
    "print(\"Standard Deviation: $\" + str(std_dev_insur))\n",
    "\n",
    "min =  round(np.min(W_insur),2)\n",
    "print(\"Minimum: $\" + str(min))\n",
    "\n",
    "median =  round(np.median(W_insur),2)\n",
    "print(\"Median: $\" + str(median))\n",
    "\n",
    "max =  round(np.max(W_insur),2)\n",
    "print(\"Maximum: $\" + str(max))\n",
    "\n",
    "W_Insur_size = W_insur.size\n",
    "\n",
    "print(\"Size: \"+ str(W_Insur_size))"
   ]
  },
  {
   "cell_type": "markdown",
   "metadata": {},
   "source": [
    "## Insured Sample"
   ]
  },
  {
   "cell_type": "code",
   "execution_count": 17,
   "metadata": {},
   "outputs": [
    {
     "name": "stdout",
     "output_type": "stream",
     "text": [
      "Mean samples from with insurance: 12479.178692857144\n",
      "STD samples from with insurance: 13895.209332881295\n",
      "Variance samples from with insurance: 193076842.40459144\n",
      "number of samples from with insurance: 7\n"
     ]
    }
   ],
   "source": [
    "#Statistics for insured sample\n",
    "seed(47)\n",
    "w_insur_samples = [insur_sampler(W_insur,1) for i in range(7)]\n",
    "\n",
    "w_insur_sorted_samples= np.sort(np.array(w_insur_samples),axis=0)\n",
    "\n",
    "mean_w_insur_samples= np.mean(w_insur_sorted_samples)\n",
    "STD_w_insur_samples= np.std(w_insur_sorted_samples,ddof=1)\n",
    "Var_w_insur_samples= STD_w_insur_samples**2\n",
    "w_insur_count= (w_insur_sorted_samples.size)\n",
    "print(\"Mean samples from with insurance: \"+ str(mean_w_insur_samples))\n",
    "print(\"STD samples from with insurance: \"+ str(STD_w_insur_samples))\n",
    "print(\"Variance samples from with insurance: \"+ str(Var_w_insur_samples))\n",
    "print(\"number of samples from with insurance: \"+ str(w_insur_count))"
   ]
  },
  {
   "cell_type": "code",
   "execution_count": 18,
   "metadata": {},
   "outputs": [
    {
     "data": {
      "image/png": "[encoded data removed]",
      "text/plain": [
       "<Figure size 432x288 with 1 Axes>"
      ]
     },
     "metadata": {
      "needs_background": "light"
     },
     "output_type": "display_data"
    }
   ],
   "source": [
    "#histogram for insured sample\n",
    "_= plt.hist(w_insur_sorted_samples, bins= 8, density = False )\n",
    "_=dist_w_insur = norm.pdf(w_insur_sorted_samples, mean_w_insur_samples, STD_w_insur_samples)\n",
    "#_= plt.plot(w_insur_sorted_samples,dist_w_insur, color='y', label ='PDF')\n",
    "#_=plt.gca().yaxis.set_major_formatter(mtick.PercentFormatter(xmax=1.0))\n",
    "_ = plt.xlabel('USD')\n",
    "_ = plt.ylabel('Invoices')\n",
    "_ = plt.title('Distribution of medical invoices with insurance in sample size' + str(w_insur_count) )\n",
    "_=plt.axvline(mean_w_insur_samples, color='r', linestyle='--', label='Mean')\n",
    "_=plt.legend()"
   ]
  },
  {
   "cell_type": "markdown",
   "metadata": {},
   "source": [
    "## Uninsured Population"
   ]
  },
  {
   "cell_type": "code",
   "execution_count": 19,
   "metadata": {
    "scrolled": false
   },
   "outputs": [
    {
     "name": "stdout",
     "output_type": "stream",
     "text": [
      "Mean: $8821.42\n",
      "Standard Deviation: $6440.7\n",
      "Minimum: $1121.87\n",
      "Median: $6933.24\n",
      "Maximum: $36910.61\n",
      "Size: 555\n"
     ]
    },
    {
     "data": {
      "image/png": "[encoded data removed]",
      "text/plain": [
       "<Figure size 432x288 with 1 Axes>"
      ]
     },
     "metadata": {
      "needs_background": "light"
     },
     "output_type": "display_data"
    }
   ],
   "source": [
    "#Calc for uninsured population\n",
    "WO_insur=(medical.query('insuranceclaim==0').charges)\n",
    "\n",
    "#Historam for uninsured population\n",
    "_=WO_insur.hist( bins=35)\n",
    "_ = plt.xlabel('USD')\n",
    "_ = plt.ylabel('number of patients')\n",
    "_ = plt.title('Population Distribution of charges without Insurance')\n",
    "\n",
    "mean_WO_insur= round(np.mean(WO_insur),2)\n",
    "print(\"Mean: $\" + str(mean_WO_insur))\n",
    "\n",
    "std_dev_WO_insur =  round(np.std(WO_insur),2)\n",
    "print(\"Standard Deviation: $\" + str(std_dev_WO_insur))\n",
    "\n",
    "min =  round(np.min(WO_insur),2)\n",
    "print(\"Minimum: $\" + str(min))\n",
    "\n",
    "median =  round(np.median(WO_insur),2)\n",
    "print(\"Median: $\" + str(median))\n",
    "\n",
    "max =  round(np.max(WO_insur),2)\n",
    "print(\"Maximum: $\" + str(max))\n",
    "\n",
    "WO_Insur_size = WO_insur.size\n",
    "\n",
    "print(\"Size: \"+ str(WO_Insur_size))"
   ]
  },
  {
   "cell_type": "markdown",
   "metadata": {},
   "source": [
    "## Uninsured Sample"
   ]
  },
  {
   "cell_type": "code",
   "execution_count": 20,
   "metadata": {},
   "outputs": [
    {
     "name": "stdout",
     "output_type": "stream",
     "text": [
      "Mean samples from without insurance: 4437.362942857143\n",
      "STD samples from without insurance: 2303.4757778349863\n",
      "Var samples from without insurance: 5306000.659072495\n",
      "number of samples from without insurance: 7\n"
     ]
    }
   ],
   "source": [
    "#Statistics for uninsured sample\n",
    "seed(47)\n",
    "wo_insur_samples = [insur_sampler(WO_insur,1) for i in range(7)]\n",
    "\n",
    "wo_insur_sorted_samples= np.sort(np.array(wo_insur_samples),axis=0)\n",
    "\n",
    "mean_wo_insur_samples= np.mean(wo_insur_sorted_samples)\n",
    "STD_wo_insur_samples= np.std(wo_insur_sorted_samples,ddof=1)\n",
    "Var_wo_insur_samples= STD_wo_insur_samples**2\n",
    "wo_insur_count= (wo_insur_sorted_samples.size)\n",
    "print(\"Mean samples from without insurance: \"+ str(mean_wo_insur_samples))\n",
    "print(\"STD samples from without insurance: \"+ str(STD_wo_insur_samples))\n",
    "print(\"Var samples from without insurance: \"+ str(Var_wo_insur_samples))\n",
    "print(\"number of samples from without insurance: \"+ str(wo_insur_count))"
   ]
  },
  {
   "cell_type": "markdown",
   "metadata": {},
   "source": [
    "__A:__"
   ]
  },
  {
   "cell_type": "code",
   "execution_count": 21,
   "metadata": {},
   "outputs": [
    {
     "data": {
      "image/png": "[encoded data removed]",
      "text/plain": [
       "<Figure size 432x288 with 1 Axes>"
      ]
     },
     "metadata": {
      "needs_background": "light"
     },
     "output_type": "display_data"
    }
   ],
   "source": [
    "#Historam for uninsured sample\n",
    "_= plt.hist(wo_insur_sorted_samples, bins= 8, density = False )\n",
    "_=dist_wo_insur = norm.pdf(wo_insur_sorted_samples, mean_wo_insur_samples, STD_wo_insur_samples)\n",
    "#_= plt.plot(wo_insur_sorted_samples,dist_wo_insur, color='y', label ='PDF')\n",
    "#_=plt.gca().yaxis.set_major_formatter(mtick.PercentFormatter(xmax=1.0))\n",
    "_ = plt.xlabel('USD')\n",
    "_ = plt.ylabel('Invoices')\n",
    "_ = plt.title('Distribution of medical invoices without insurance in sample size ' + str(wo_insur_count))\n",
    "_=plt.axvline(mean_wo_insur_samples, color='r', linestyle='--', label='Mean')\n",
    "_=plt.legend()"
   ]
  },
  {
   "cell_type": "markdown",
   "metadata": {},
   "source": [
    "__Q5:__ Perform this hypothesis test both manually, using the above formulae, and then using the appropriate function from [scipy.stats](https://docs.scipy.org/doc/scipy/reference/stats.html#statistical-tests) (hint, you're looking for a function to perform a _t_-test on two independent samples). For the manual approach, calculate the value of the test statistic and then its probability (the p-value). Verify you get the same results from both."
   ]
  },
  {
   "cell_type": "markdown",
   "metadata": {},
   "source": [
    "__A:__ "
   ]
  },
  {
   "cell_type": "code",
   "execution_count": 22,
   "metadata": {},
   "outputs": [
    {
     "name": "stdout",
     "output_type": "stream",
     "text": [
      "Manual T-Test statistic calculation: 1.5106055764909945\n",
      "Could not calculate statistic manually without t table that did not have a value for t 0f 1.51. Assumed df for t table should be derived from smaller n value.  both are 7 chose df of 6. value from table for two sided ttest is 0.184\n"
     ]
    }
   ],
   "source": [
    "# manual calc for ttest\n",
    "\n",
    "sp=(((w_insur_count -1)*Var_w_insur_samples)+((wo_insur_count -1)*Var_wo_insur_samples))/(w_insur_count+wo_insur_count-2)\n",
    "\n",
    "\n",
    "\n",
    "t_stat_manual=(mean_w_insur_samples - mean_wo_insur_samples)/sqrt(((sp/w_insur_count)+(sp/wo_insur_count)))\n",
    "\n",
    "print(\"Manual T-Test statistic calculation: \" + str(t_stat_manual))\n",
    "\n",
    "print(\"Could not calculate statistic manually without t table that did not have a value for t 0f 1.51. Assumed df for t table should be derived from smaller n value.  both are 7 chose df of 6. value from table for two sided ttest is 0.184\")"
   ]
  },
  {
   "cell_type": "code",
   "execution_count": 23,
   "metadata": {},
   "outputs": [
    {
     "name": "stdout",
     "output_type": "stream",
     "text": [
      "Ttest_indResult(statistic=1.5106055764909945, pvalue=0.17909593083942885)\n"
     ]
    }
   ],
   "source": [
    "ttest=ttest_ind(w_insur_sorted_samples, wo_insur_sorted_samples, axis=None, equal_var=False)\n",
    "print(ttest)"
   ]
  },
  {
   "cell_type": "markdown",
   "metadata": {},
   "source": [
    "Congratulations! Hopefully you got the exact same numerical results. This shows that you correctly calculated the numbers by hand. Secondly, you used the correct function and saw that it's much easier to use. All you need to do is pass your data to it."
   ]
  },
  {
   "cell_type": "markdown",
   "metadata": {},
   "source": [
    "__Q6:__ Conceptual question: look through the documentation for statistical test functions in scipy.stats. You'll see the above _t_-test for a sample, but can you see an equivalent one for performing a *z*-test from a sample? Comment on your answer."
   ]
  },
  {
   "cell_type": "markdown",
   "metadata": {},
   "source": [
    "__A:__ Ztest are used when population parameters are known.  T-test when population parameters are unknown"
   ]
  },
  {
   "cell_type": "markdown",
   "metadata": {},
   "source": [
    "## Learning outcomes"
   ]
  },
  {
   "cell_type": "markdown",
   "metadata": {},
   "source": [
    "##### Having completed this project notebook, you now have good hands-on experience:\n",
    "* using the central limit theorem to help you apply frequentist techniques to answer questions that pertain to very non-normally distributed data from the real world\n",
    "* performing inference using such data to answer business questions\n",
    "* forming a hypothesis and framing the null and alternative hypotheses\n",
    "* testing this using a _t_-test"
   ]
  }
 ],
 "metadata": {
  "kernelspec": {
   "display_name": "Python 3",
   "language": "python",
   "name": "python3"
  },
  "language_info": {
   "codemirror_mode": {
    "name": "ipython",
    "version": 3
   },
   "file_extension": ".py",
   "mimetype": "text/x-python",
   "name": "python",
   "nbconvert_exporter": "python",
   "pygments_lexer": "ipython3",
   "version": "3.8.8"
  }
 },
 "nbformat": 4,
 "nbformat_minor": 2
}
